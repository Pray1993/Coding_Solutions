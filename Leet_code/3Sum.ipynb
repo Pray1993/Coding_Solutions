{
 "cells": [
  {
   "cell_type": "markdown",
   "metadata": {},
   "source": [
    "# Given array [-1,0,1,2,-1,-4] then the result should be [[-1,1,0],[-1,-1,-2]]"
   ]
  },
  {
   "cell_type": "code",
   "execution_count": 6,
   "metadata": {},
   "outputs": [],
   "source": [
    "nums = [-1,0,1,2,-1,-4]"
   ]
  },
  {
   "cell_type": "markdown",
   "metadata": {},
   "source": [
    "# Sorting array"
   ]
  },
  {
   "cell_type": "code",
   "execution_count": 7,
   "metadata": {},
   "outputs": [
    {
     "name": "stdout",
     "output_type": "stream",
     "text": [
      "[-1, 0, 1, 2, -1, -4]\n",
      "[-4, -1, -1, 0, 1, 2]\n"
     ]
    }
   ],
   "source": [
    "print(nums)\n",
    "nums.sort()\n",
    "print(nums)"
   ]
  },
  {
   "cell_type": "code",
   "execution_count": 8,
   "metadata": {},
   "outputs": [],
   "source": [
    "result = []"
   ]
  },
  {
   "cell_type": "code",
   "execution_count": 9,
   "metadata": {},
   "outputs": [
    {
     "name": "stdout",
     "output_type": "stream",
     "text": [
      "0\n",
      "1\n",
      "2\n",
      "3\n"
     ]
    }
   ],
   "source": [
    "for i in range(len(nums) - 2):\n",
    "    print(i)"
   ]
  },
  {
   "cell_type": "code",
   "execution_count": 12,
   "metadata": {},
   "outputs": [
    {
     "name": "stdout",
     "output_type": "stream",
     "text": [
      "2 -1 -1\n"
     ]
    }
   ],
   "source": [
    "for i in range(len(nums) - 2):\n",
    "    if i>0 and nums[i] == nums[i-1]:\n",
    "        print(i, nums[i], nums[i-1])"
   ]
  },
  {
   "cell_type": "code",
   "execution_count": 14,
   "metadata": {},
   "outputs": [
    {
     "name": "stdout",
     "output_type": "stream",
     "text": [
      "0 1 5\n",
      "1 2 5\n",
      "2 3 5\n",
      "3 4 5\n"
     ]
    }
   ],
   "source": [
    "for i in range(len(nums) - 2):\n",
    "    l = i+1\n",
    "    r = len(nums)-1\n",
    "    print(i,l,r)"
   ]
  },
  {
   "cell_type": "code",
   "execution_count": 30,
   "metadata": {},
   "outputs": [
    {
     "name": "stdout",
     "output_type": "stream",
     "text": [
      "[-4, -1, -1, 0, 1, 2]\n",
      "[-4, -1, -1, 0, 1, 2]\n"
     ]
    }
   ],
   "source": [
    "print(nums)\n",
    "nums.sort()\n",
    "print(nums)"
   ]
  },
  {
   "cell_type": "code",
   "execution_count": 63,
   "metadata": {},
   "outputs": [
    {
     "name": "stdout",
     "output_type": "stream",
     "text": [
      "0 1 5 [-4, -1, 2] -3\n",
      "\n",
      "0 2 5 [-4, -1, 2] -3\n",
      "\n",
      "0 3 5 [-4, 0, 2] -2\n",
      "\n",
      "0 4 5 [-4, 1, 2] -1\n",
      "\n",
      "1 2 5 [-1, -1, 2] 0\n",
      "\n",
      "1 3 4 [-1, 0, 1] 0\n",
      "\n",
      "2 4 3 [-1, 1, 0] 0 Skipped\n",
      "\n",
      "3 4 5 [0, 1, 2] 3\n",
      "\n"
     ]
    }
   ],
   "source": [
    "nums.sort()\n",
    "result = []\n",
    "for i in range(len(nums) - 2):\n",
    "#     print(i,nums[i],nums[i-1])\n",
    "    \n",
    "    '''\n",
    "        Below code is to skip the iteration where the two adjacent numbers are same\n",
    "        because if a triplet forms with the first number then with the next number also\n",
    "        the other duplicate triplet forms. to avoid the duplicates we skip the itertion. \n",
    "    ''' \n",
    "    if i>0 and nums[i] == nums[i-1]:\n",
    "        print(i,l,r,[nums[i],nums[l],nums[r]],sum1,\"Skipped\")\n",
    "        print()\n",
    "        continue\n",
    "        \n",
    "    '''\n",
    "        Assiging left and right variables for looping\n",
    "    '''    \n",
    "    l = i+1\n",
    "    r = len(nums)-1\n",
    "    \n",
    "     \n",
    "    while(l<r):\n",
    "        \n",
    "        sum1 = nums[i] + nums[l] + nums[r]\n",
    "        print(i,l,r,[nums[i],nums[l],nums[r]], sum1)\n",
    "        if sum1<0:\n",
    "            l+=1\n",
    "        elif sum1>0:\n",
    "            r-=1\n",
    "        else:\n",
    "#             print([nums[i],nums[l],nums[r]],i,l,r) \n",
    "            result.append([nums[i],nums[l],nums[r]])\n",
    "            while l<r and nums[l] == nums[l+1]:\n",
    "                l+=1\n",
    "            while r>l and nums[r] == nums[r-1]:\n",
    "                r-=1\n",
    "            l+=1\n",
    "            r-=1\n",
    "        print()"
   ]
  },
  {
   "cell_type": "code",
   "execution_count": 43,
   "metadata": {},
   "outputs": [
    {
     "data": {
      "text/plain": [
       "[[-1, -1, 2], [-1, 0, 1]]"
      ]
     },
     "execution_count": 43,
     "metadata": {},
     "output_type": "execute_result"
    }
   ],
   "source": [
    "result"
   ]
  },
  {
   "cell_type": "code",
   "execution_count": null,
   "metadata": {},
   "outputs": [],
   "source": []
  }
 ],
 "metadata": {
  "kernelspec": {
   "display_name": "Python 3",
   "language": "python",
   "name": "python3"
  },
  "language_info": {
   "codemirror_mode": {
    "name": "ipython",
    "version": 3
   },
   "file_extension": ".py",
   "mimetype": "text/x-python",
   "name": "python",
   "nbconvert_exporter": "python",
   "pygments_lexer": "ipython3",
   "version": "3.8.3"
  }
 },
 "nbformat": 4,
 "nbformat_minor": 4
}
